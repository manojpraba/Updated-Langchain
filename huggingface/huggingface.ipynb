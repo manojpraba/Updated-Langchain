{
 "cells": [
  {
   "cell_type": "code",
   "execution_count": 1,
   "metadata": {},
   "outputs": [],
   "source": [
    "from langchain_community.document_loaders import PyPDFLoader\n",
    "from langchain_community.document_loaders import PyPDFDirectoryLoader\n",
    "from langchain.text_splitter import RecursiveCharacterTextSplitter\n",
    "from langchain_community.vectorstores import FAISS\n",
    "\n",
    "from langchain_community.embeddings import HuggingFaceBgeEmbeddings\n",
    "from langchain.prompts import PromptTemplate\n",
    "\n",
    "from langchain.chains import RetrievalQA\n",
    "\n"
   ]
  },
  {
   "cell_type": "code",
   "execution_count": 2,
   "metadata": {},
   "outputs": [
    {
     "data": {
      "text/plain": [
       "Document(page_content='Health Insurance Coverage Status and Type \\nby Geography: 2021 and 2022\\nAmerican Community Survey Briefs\\nACSBR-015Issued September 2023Douglas Conway and Breauna Branch\\nINTRODUCTION\\nDemographic shifts as well as economic and govern-\\nment policy changes can affect people’s access to health coverage. For example, between 2021 and 2022, the labor market continued to improve, which may have affected private coverage in the United States \\nduring that time.\\n1 Public policy changes included \\nthe renewal of the Public Health Emergency, which \\nallowed Medicaid enrollees to remain covered under the Continuous Enrollment Provision.\\n2 The American \\nRescue Plan (ARP) enhanced Marketplace premium subsidies for those with incomes above 400 percent of the poverty level as well as for unemployed people.\\n3', metadata={'source': 'us_census\\\\acsbr-015.pdf', 'page': 0})"
      ]
     },
     "execution_count": 2,
     "metadata": {},
     "output_type": "execute_result"
    }
   ],
   "source": [
    "## Read the ppdfs from the folder\n",
    "loader=PyPDFDirectoryLoader(\"./us_census\")\n",
    "\n",
    "documents=loader.load()\n",
    "\n",
    "text_splitter=RecursiveCharacterTextSplitter(chunk_size=1000,chunk_overlap=200)\n",
    "\n",
    "final_documents=text_splitter.split_documents(documents)\n",
    "final_documents[0]"
   ]
  },
  {
   "cell_type": "code",
   "execution_count": 5,
   "metadata": {},
   "outputs": [
    {
     "data": {
      "text/plain": [
       "316"
      ]
     },
     "execution_count": 5,
     "metadata": {},
     "output_type": "execute_result"
    }
   ],
   "source": [
    "len(final_documents)"
   ]
  },
  {
   "cell_type": "code",
   "execution_count": 3,
   "metadata": {},
   "outputs": [
    {
     "name": "stderr",
     "output_type": "stream",
     "text": [
      "c:\\DL projects\\Langchaing\\Updated-Langchain\\lang_env\\lib\\site-packages\\sentence_transformers\\cross_encoder\\CrossEncoder.py:11: TqdmWarning: IProgress not found. Please update jupyter and ipywidgets. See https://ipywidgets.readthedocs.io/en/stable/user_install.html\n",
      "  from tqdm.autonotebook import tqdm, trange\n",
      "c:\\DL projects\\Langchaing\\Updated-Langchain\\lang_env\\lib\\site-packages\\huggingface_hub\\file_download.py:157: UserWarning: `huggingface_hub` cache-system uses symlinks by default to efficiently store duplicated files but your machine does not support them in C:\\Users\\mmanoj\\.cache\\huggingface\\hub\\models--BAAI--bge-small-en-v1.5. Caching files will still work but in a degraded version that might require more space on your disk. This warning can be disabled by setting the `HF_HUB_DISABLE_SYMLINKS_WARNING` environment variable. For more details, see https://huggingface.co/docs/huggingface_hub/how-to-cache#limitations.\n",
      "To support symlinks on Windows, you either need to activate Developer Mode or to run Python as an administrator. In order to see activate developer mode, see this article: https://docs.microsoft.com/en-us/windows/apps/get-started/enable-your-device-for-development\n",
      "  warnings.warn(message)\n",
      "c:\\DL projects\\Langchaing\\Updated-Langchain\\lang_env\\lib\\site-packages\\huggingface_hub\\file_download.py:1132: FutureWarning: `resume_download` is deprecated and will be removed in version 1.0.0. Downloads always resume when possible. If you want to force a new download, use `force_download=True`.\n",
      "  warnings.warn(\n"
     ]
    }
   ],
   "source": [
    "## Embedding Using Huggingface\n",
    "huggingface_embeddings=HuggingFaceBgeEmbeddings(\n",
    "    model_name=\"BAAI/bge-small-en-v1.5\",      #sentence-transformers/all-MiniLM-l6-v2\n",
    "    model_kwargs={'device':'cpu'},\n",
    "    encode_kwargs={'normalize_embeddings':True}\n",
    "\n",
    ")"
   ]
  },
  {
   "cell_type": "code",
   "execution_count": 5,
   "metadata": {},
   "outputs": [],
   "source": [
    "em=huggingface_embeddings.embed_query(\"King and Queen\")"
   ]
  },
  {
   "cell_type": "code",
   "execution_count": 9,
   "metadata": {},
   "outputs": [
    {
     "data": {
      "text/plain": [
       "array([-1.82168838e-02,  9.99695659e-02,  8.10765028e-02, -3.27630038e-03,\n",
       "        7.98593275e-03,  1.55359851e-02,  1.74987037e-02, -3.22268382e-02,\n",
       "        6.07669428e-02, -1.84381567e-02, -2.51246616e-02,  1.98375341e-03,\n",
       "        3.61564569e-02, -2.01915484e-02,  2.51618922e-02, -3.14232963e-03,\n",
       "       -2.94486694e-02, -2.13192720e-02, -9.73709971e-02,  6.49688095e-02,\n",
       "        3.85748856e-02, -4.43241596e-02, -3.61262225e-02,  1.80379339e-02,\n",
       "       -1.60644855e-02, -7.69400364e-03,  7.30349310e-03,  1.80179179e-02,\n",
       "       -2.43312493e-02, -1.45794302e-01, -1.05483206e-02, -2.03213599e-02,\n",
       "        1.67371240e-02, -1.31763658e-02, -4.02104408e-02, -1.73749086e-02,\n",
       "       -1.32598653e-02,  7.33525082e-02,  1.52545758e-02, -2.52583511e-02,\n",
       "        2.53770929e-02, -4.54790592e-02,  1.48559930e-02,  1.35691948e-02,\n",
       "        8.21128895e-04,  6.98513910e-02,  1.52171799e-03,  8.17486458e-03,\n",
       "       -1.20595023e-02,  1.68998670e-02, -2.87922341e-02,  2.68402928e-03,\n",
       "       -9.67929792e-03, -7.56015955e-03,  3.47424895e-02,  4.13203984e-02,\n",
       "       -2.63718213e-03, -1.67669076e-02,  9.39232633e-02,  3.15708853e-02,\n",
       "       -2.39177281e-03, -1.32494876e-02, -1.60484910e-01,  7.34654441e-02,\n",
       "       -3.74215022e-02,  1.21478401e-02, -9.33856471e-04, -4.00734358e-02,\n",
       "       -5.85285388e-02,  6.87260255e-02, -4.43310253e-02,  1.74085016e-03,\n",
       "        6.60876231e-03,  1.76442731e-02, -8.23500529e-02,  1.33999102e-02,\n",
       "       -3.24866734e-02, -3.02238259e-02, -2.75447611e-02,  2.58983555e-03,\n",
       "       -2.18941309e-02, -7.19325570e-03, -1.17263487e-02, -1.91824250e-02,\n",
       "       -5.68354949e-02,  6.55811920e-04, -5.71267791e-02, -4.24097292e-02,\n",
       "       -2.98973955e-02, -4.48287494e-04,  4.62898798e-02, -5.10760099e-02,\n",
       "        6.97395802e-02,  3.18531469e-02, -5.29370308e-02, -2.51009241e-02,\n",
       "        3.18742879e-02, -2.16997974e-02,  4.45310734e-02,  3.74867499e-01,\n",
       "       -7.18777766e-03,  9.97300819e-03, -1.88689120e-02,  7.26220850e-03,\n",
       "       -1.09783188e-02, -5.39689884e-02, -2.59460695e-02, -4.22533639e-02,\n",
       "        1.50458692e-02, -5.01752794e-02,  6.43146113e-02, -5.19705452e-02,\n",
       "       -8.83598905e-03, -3.98614444e-02, -1.49782794e-03, -5.05680032e-02,\n",
       "        2.16547623e-02,  8.15171376e-03, -1.17177414e-02, -3.31522115e-02,\n",
       "       -4.41010743e-02, -4.03173007e-02,  3.55646014e-02, -1.57936178e-02,\n",
       "        6.09484017e-02, -5.87979592e-02,  5.84138930e-02,  6.28217449e-03,\n",
       "        3.03801056e-02, -6.76783323e-02, -5.96064515e-03,  9.03709047e-03,\n",
       "       -9.01152287e-03, -8.37631524e-03, -4.92463782e-02, -2.52520032e-02,\n",
       "        5.36721535e-02, -2.94012446e-02,  4.02451418e-02, -5.46462089e-02,\n",
       "       -6.25834912e-02, -1.22939810e-01, -7.25489929e-02, -4.41470882e-03,\n",
       "        1.33643867e-02, -9.98459291e-03,  1.87495649e-02, -3.13700177e-02,\n",
       "       -1.10207684e-03,  5.66556230e-02,  4.33358252e-02,  1.59816314e-02,\n",
       "        3.44755724e-02, -3.14177270e-03,  5.98418489e-02,  3.12700607e-02,\n",
       "        5.36778532e-02,  4.37239334e-02,  2.22226288e-02, -5.03099225e-02,\n",
       "        1.47079509e-02,  9.31936037e-03, -4.36503142e-02,  5.32535166e-02,\n",
       "       -1.81364119e-02, -1.35387063e-01,  4.44487371e-02,  2.23593619e-02,\n",
       "       -4.90703508e-02, -1.05627971e-02,  4.72201034e-02,  7.33148158e-02,\n",
       "       -4.26902212e-02,  5.62972017e-02,  8.16328600e-02, -8.99010804e-03,\n",
       "       -3.59618552e-02, -5.17224036e-02,  2.17545051e-02, -1.60076823e-02,\n",
       "       -3.27639021e-02, -4.54395153e-02, -4.50645797e-02,  1.17073134e-02,\n",
       "        6.04452118e-02,  2.53576990e-02, -8.99143238e-03,  4.91266325e-02,\n",
       "        1.12773394e-02,  2.44941860e-02,  1.35604814e-01,  7.09152641e-03,\n",
       "       -1.30210794e-03,  6.23743758e-02, -3.50782722e-02, -4.70352434e-02,\n",
       "       -2.98638921e-02, -5.46714617e-03, -2.21996866e-02, -2.62527969e-02,\n",
       "       -3.07106562e-02, -7.03060161e-03,  3.72470357e-02,  2.45478507e-02,\n",
       "        9.47421417e-03,  2.68682316e-02,  1.01634702e-02, -2.27929000e-02,\n",
       "        2.95925532e-02,  5.61601203e-03, -3.22632492e-02, -2.29718275e-02,\n",
       "       -6.35208711e-02, -7.36718550e-02,  4.63464335e-02,  5.82235083e-02,\n",
       "        5.42025827e-03, -7.49333669e-03, -3.70357074e-02,  3.59486826e-02,\n",
       "        3.23030651e-02, -7.86220804e-02,  1.70313045e-02, -3.10244650e-01,\n",
       "       -7.10206514e-04, -1.48074876e-03,  2.98389848e-02,  6.21105032e-03,\n",
       "       -3.60862836e-02,  3.28496918e-02,  1.48795610e-02, -5.17631844e-02,\n",
       "        3.91594693e-02,  1.24796312e-02, -7.62975775e-03, -3.64338383e-02,\n",
       "        3.82445455e-02,  5.05343219e-03,  7.53106028e-02,  2.15572683e-04,\n",
       "        3.46860066e-02,  4.91513126e-03,  2.75191665e-02,  3.24542914e-03,\n",
       "        1.34090632e-02, -2.60783695e-02, -3.96350399e-03, -3.21802683e-02,\n",
       "        3.54456268e-02,  1.53486997e-01, -5.29855676e-03,  5.10444865e-03,\n",
       "        1.23686586e-02,  8.06994736e-02,  4.62235063e-02, -5.11469170e-02,\n",
       "       -7.16673434e-02,  3.63271050e-02,  6.20624376e-03,  4.92314659e-02,\n",
       "        3.48456390e-02, -7.40507916e-02,  5.01455218e-02, -1.06654698e-02,\n",
       "        2.45591979e-02, -5.65757491e-02,  1.57447867e-02,  5.44916429e-02,\n",
       "        3.30708250e-02,  5.41489199e-02,  8.94984289e-04, -4.22305539e-02,\n",
       "        3.98713723e-02, -6.63595553e-03, -3.37180193e-03,  7.57526257e-04,\n",
       "       -3.86764035e-02, -5.22576347e-02,  6.11120136e-03, -7.44616166e-02,\n",
       "        3.32497880e-02, -3.69336568e-02,  7.94070587e-02,  4.65245452e-03,\n",
       "       -4.42276001e-02,  2.10842956e-03,  1.01527609e-02, -2.34012417e-02,\n",
       "        4.17569019e-02, -4.44950862e-03,  7.04172179e-02, -2.35159062e-02,\n",
       "        8.43526144e-03, -3.16874273e-02, -4.44007628e-02, -4.97426540e-02,\n",
       "       -3.64897028e-02,  1.89643875e-02,  4.42246683e-02,  7.13358521e-02,\n",
       "       -3.83560099e-02, -1.65426766e-03,  7.70243176e-04,  5.67888422e-03,\n",
       "       -6.11922517e-02,  2.68321391e-02, -7.47080967e-02, -1.68281570e-02,\n",
       "       -1.24001727e-02,  5.69681562e-02, -1.46490359e-03,  3.16192210e-02,\n",
       "       -7.95761496e-02, -3.70698869e-02, -8.38820934e-02,  3.36031951e-02,\n",
       "       -2.17838697e-02, -4.88355309e-02,  6.81019351e-02, -2.38331407e-01,\n",
       "        4.08374742e-02,  3.28900735e-03,  8.17481726e-02, -5.75202294e-02,\n",
       "       -5.73119964e-04,  1.68667100e-02, -1.55234691e-02, -4.56844531e-02,\n",
       "       -2.52380762e-02,  7.39592090e-02,  1.29410392e-02, -4.10970021e-03,\n",
       "        2.44736429e-02, -3.21146138e-02,  1.38194282e-02,  9.13292691e-02,\n",
       "       -2.00659018e-02,  4.76334419e-04,  1.82392914e-02,  4.12574671e-02,\n",
       "       -3.60610783e-02,  1.43305331e-01,  6.53959438e-03, -1.23459636e-03,\n",
       "       -4.53257449e-02,  4.77583818e-02,  5.10484353e-02, -4.40781787e-02,\n",
       "       -1.86590254e-02,  2.20779516e-03,  6.86454549e-02,  5.96444942e-02,\n",
       "       -4.08525839e-02,  2.40850579e-02,  1.84340514e-02, -2.19922680e-02,\n",
       "        1.04262665e-01,  4.76993844e-02,  5.76750077e-02,  1.17020421e-02,\n",
       "        2.42311182e-03, -4.49946932e-02, -6.80630729e-02,  6.77955896e-02,\n",
       "        5.67461737e-02,  2.06445865e-02, -2.29768343e-02,  2.56971624e-02,\n",
       "       -1.70979556e-02, -2.70654745e-02,  4.44302633e-02, -1.19216815e-02,\n",
       "        2.69584283e-02,  1.70785524e-02, -2.60385778e-03, -6.02271371e-02,\n",
       "       -9.05209314e-03,  5.93908802e-02, -1.57415646e-03, -3.25539485e-02,\n",
       "        3.66185792e-03, -1.65963434e-02,  6.83683455e-02, -3.86302546e-02])"
      ]
     },
     "execution_count": 9,
     "metadata": {},
     "output_type": "execute_result"
    }
   ],
   "source": [
    "np.array(em)"
   ]
  },
  {
   "cell_type": "code",
   "execution_count": 4,
   "metadata": {},
   "outputs": [
    {
     "name": "stdout",
     "output_type": "stream",
     "text": [
      "[-8.46568272e-02 -1.19099068e-02 -3.37892212e-02  2.94559114e-02\n",
      "  5.19160256e-02  5.73840030e-02 -4.10018116e-02  2.74267606e-02\n",
      " -1.05128206e-01 -1.58055872e-02  7.94858783e-02  5.64318895e-02\n",
      " -1.31765716e-02 -3.41544449e-02  5.81600517e-03  4.72547635e-02\n",
      " -1.30746737e-02  3.12989787e-03 -3.44226249e-02  3.08406334e-02\n",
      " -4.09086272e-02  3.52737717e-02 -2.43761223e-02 -4.35830802e-02\n",
      "  2.41503119e-02  1.31986486e-02 -4.84455097e-03  1.92347057e-02\n",
      " -5.43912649e-02 -1.42735094e-01  5.15529374e-03  2.93115713e-02\n",
      " -5.60810752e-02 -8.53529759e-03  3.14141288e-02  2.76736636e-02\n",
      " -2.06188671e-02  8.24231505e-02  4.15425412e-02  5.79654835e-02\n",
      " -3.71586867e-02  6.26162579e-03 -2.41390318e-02 -5.61797759e-03\n",
      " -2.51715723e-02  5.04976278e-03 -2.52801497e-02 -2.91943387e-03\n",
      " -8.24041571e-03 -5.69603927e-02  2.30822600e-02 -5.54215023e-03\n",
      "  5.11555411e-02  6.09937273e-02  6.49766028e-02 -5.38513996e-02\n",
      "  2.19109710e-02 -2.54194979e-02 -4.49223891e-02  4.22458909e-02\n",
      "  4.75252643e-02  7.23222096e-04 -2.61084497e-01  9.30173621e-02\n",
      "  1.13597615e-02  4.90668528e-02 -1.06287431e-02 -8.08729418e-03\n",
      " -1.53562510e-02 -5.33786602e-02 -6.89967275e-02  4.75178026e-02\n",
      " -5.68596087e-02  9.38641094e-03  4.24065292e-02  2.54346821e-02\n",
      "  9.67103988e-03  7.90796429e-03  2.25161519e-02  1.91008556e-03\n",
      "  3.06092147e-02  2.43991781e-02 -1.34115415e-02 -4.77401018e-02\n",
      "  4.89940085e-02 -9.49417129e-02  5.62893972e-02 -4.76261266e-02\n",
      "  2.81447638e-02 -2.54329499e-02 -3.84950563e-02  1.00940028e-02\n",
      "  1.90464983e-04  3.36624645e-02  1.00182006e-02  2.83524077e-02\n",
      " -2.68970663e-03 -6.96363719e-03 -3.54915112e-02  3.42758864e-01\n",
      " -1.94496159e-02  1.43988095e-02 -5.68821467e-03  1.71480216e-02\n",
      " -2.88601243e-03 -5.81653379e-02  6.35253324e-04  5.17302752e-03\n",
      "  2.06331704e-02  1.65708363e-02  2.15097088e-02 -2.38796063e-02\n",
      "  2.89274752e-02  4.67319377e-02 -3.56104560e-02 -1.05079049e-02\n",
      "  3.70704122e-02  1.57502256e-02  9.43094939e-02 -2.50715092e-02\n",
      " -9.55972075e-03  1.78565979e-02 -9.41780861e-03 -4.57859039e-02\n",
      "  1.82930753e-02  5.81431463e-02  4.94311228e-02  1.46350697e-01\n",
      "  2.16058083e-02 -3.92895751e-02  1.03241250e-01 -3.48300748e-02\n",
      " -6.61877729e-03  7.07983132e-03  9.26978944e-04  4.49864799e-03\n",
      " -2.89777014e-02  4.02419381e-02 -5.23190387e-03  4.59962152e-02\n",
      "  4.23968630e-03 -4.83793253e-03 -3.23239644e-03 -1.41072839e-01\n",
      " -3.76811698e-02  1.83623895e-01 -2.96609085e-02  4.90660742e-02\n",
      "  3.90551649e-02 -1.57757644e-02 -3.86351272e-02  4.65630405e-02\n",
      " -2.43486706e-02  3.57695147e-02 -3.54946442e-02  2.36266181e-02\n",
      " -3.41924751e-04  3.11703701e-02 -2.39356272e-02 -5.94758391e-02\n",
      "  6.06259257e-02 -3.81902382e-02 -7.04255030e-02  1.42479902e-02\n",
      "  3.34432088e-02 -3.85255069e-02 -1.71951726e-02 -7.12289214e-02\n",
      "  2.64976211e-02  1.09496154e-02  1.32650258e-02  3.89528126e-02\n",
      "  1.60355456e-02 -3.17629986e-02  1.02013692e-01  2.92912293e-02\n",
      " -2.29205471e-02 -8.38058721e-03 -1.72172859e-02 -6.78821206e-02\n",
      "  5.39413840e-03 -2.32347324e-02 -6.07406646e-02 -3.86575758e-02\n",
      " -1.54307047e-02 -3.84983271e-02 -5.02867624e-02  5.04234992e-02\n",
      "  4.94897999e-02 -1.41082611e-02 -2.98144901e-03  9.77161908e-05\n",
      " -6.59189522e-02  3.01006343e-02 -5.46619645e-04 -1.64787788e-02\n",
      " -5.21614738e-02 -3.30225378e-03  4.75748517e-02 -3.40808108e-02\n",
      " -2.98659466e-02  2.75014956e-02  5.90201793e-03 -2.64044479e-03\n",
      " -1.61242411e-02  2.05222704e-02  1.21105174e-02 -5.49782179e-02\n",
      "  5.10389395e-02 -7.92090315e-03  7.25205475e-03  3.51750664e-02\n",
      "  3.66276987e-02  5.67727489e-04  2.60788407e-02  2.50971448e-02\n",
      "  1.14480723e-02 -2.54924726e-02  1.96417551e-02  2.84220483e-02\n",
      "  2.82554533e-02  6.57488927e-02  9.26554576e-02 -2.68629581e-01\n",
      " -8.90508469e-04  3.16914264e-03  5.08355442e-03 -6.42101094e-02\n",
      " -4.56614755e-02 -4.62259501e-02  3.60924825e-02  8.29051062e-03\n",
      "  8.92348886e-02  5.68022504e-02  6.91061094e-03 -1.08683715e-02\n",
      "  9.36060995e-02  1.03680333e-02 -8.60929266e-02  1.77332181e-02\n",
      " -2.00802423e-02 -1.85124166e-02  5.62413072e-04 -9.38341115e-03\n",
      "  7.76063744e-03 -5.37273251e-02 -2.30027642e-02  7.48890415e-02\n",
      " -1.29693011e-02  6.53717667e-02 -4.24983092e-02 -7.10294172e-02\n",
      " -1.56803001e-02 -6.23029098e-02  5.36034405e-02 -6.53211307e-03\n",
      " -1.15985543e-01  6.70968369e-02  1.93367302e-02 -6.67828247e-02\n",
      " -2.01760605e-03 -6.27636611e-02 -2.95004956e-02 -2.71986648e-02\n",
      "  4.49796468e-02 -6.61586821e-02  2.13751197e-02 -2.94078086e-02\n",
      " -5.71503304e-02  4.05282602e-02  7.11039975e-02 -6.80164844e-02\n",
      "  2.11909376e-02  1.30515071e-02 -2.91152745e-02 -2.25582067e-02\n",
      " -1.60188489e-02  3.20554748e-02 -5.89459799e-02 -2.97131855e-02\n",
      "  3.42682377e-02 -1.58375781e-02 -9.31770261e-03  3.59833911e-02\n",
      "  3.65340780e-03  4.73319739e-02 -1.06235044e-02 -8.69730208e-03\n",
      " -4.38010022e-02  5.94554236e-03 -2.41493564e-02 -7.79940113e-02\n",
      "  1.46542881e-02  1.05613600e-02  5.45365363e-02 -3.17897573e-02\n",
      " -1.26762819e-02  7.92556442e-03 -1.38132563e-02  5.01396209e-02\n",
      " -7.28584081e-03 -5.23698190e-03 -5.32640778e-02  4.78208661e-02\n",
      " -5.38354032e-02  1.11437486e-02  3.96674350e-02 -1.93496533e-02\n",
      "  9.94823128e-03 -3.53482063e-03  3.58565291e-03 -9.61504504e-03\n",
      "  2.15323959e-02 -1.82350036e-02 -2.15189476e-02 -1.38835926e-02\n",
      " -1.76698696e-02  3.37999430e-04 -3.84891493e-04 -2.25800633e-01\n",
      "  4.51243110e-02  1.53377093e-02 -1.76967122e-02 -1.42526189e-02\n",
      " -7.00277928e-03 -3.13724279e-02  2.13676691e-03 -9.28347744e-03\n",
      " -1.66986529e-02  4.66263704e-02  7.71809146e-02  1.26697004e-01\n",
      " -1.83595791e-02 -1.39636286e-02 -1.23298308e-03  5.93338646e-02\n",
      " -1.37464551e-03  1.98234096e-02 -2.92636380e-02  4.96656746e-02\n",
      " -6.07207417e-02  1.53544754e-01 -4.67309952e-02  1.97028797e-02\n",
      " -7.67833516e-02 -7.73233641e-03  3.71618606e-02 -3.00591532e-02\n",
      "  8.30264483e-03  2.06258669e-02  1.97472330e-03  3.39764468e-02\n",
      " -1.70869250e-02  4.84796017e-02  1.20782340e-02  1.24999182e-02\n",
      "  5.61724193e-02  9.88544710e-03  2.13879533e-02 -4.25293744e-02\n",
      " -1.94037203e-02  2.47838050e-02  1.37260482e-02  6.41119480e-02\n",
      " -2.84481086e-02 -4.64116521e-02 -5.36255799e-02 -6.95649433e-05\n",
      "  6.45709485e-02 -4.31959750e-04 -1.32471425e-02  5.85136283e-03\n",
      "  1.48596056e-02 -5.41847572e-02 -2.02038791e-02 -5.98263182e-02\n",
      "  3.67030241e-02  1.43318530e-03 -8.64471588e-03  2.90671326e-02\n",
      "  4.38366160e-02 -7.64942169e-02  1.55718233e-02  6.65831417e-02]\n",
      "(384,)\n"
     ]
    }
   ],
   "source": [
    "import  numpy as np\n",
    "print(np.array(huggingface_embeddings.embed_query(final_documents[0].page_content)))\n",
    "print(np.array(huggingface_embeddings.embed_query(final_documents[0].page_content)).shape)"
   ]
  },
  {
   "cell_type": "code",
   "execution_count": 10,
   "metadata": {},
   "outputs": [],
   "source": [
    "## VectorStore Creation\n",
    "vectorstore=FAISS.from_documents(final_documents[:10],huggingface_embeddings)"
   ]
  },
  {
   "cell_type": "code",
   "execution_count": 11,
   "metadata": {},
   "outputs": [
    {
     "name": "stdout",
     "output_type": "stream",
     "text": [
      "2 U.S. Census Bureau\n",
      "WHAT IS HEALTH INSURANCE COVERAGE?\n",
      "This brief presents state-level estimates of health insurance coverage \n",
      "using data from the American Community Survey (ACS). The  \n",
      "U.S. Census Bureau conducts the ACS throughout the year; the \n",
      "survey asks respondents to report their coverage at the time of \n",
      "interview. The resulting measure of health insurance coverage, \n",
      "therefore, reflects an annual average of current comprehensive \n",
      "health insurance coverage status.* This uninsured rate measures a \n",
      "different concept than the measure based on the Current Population \n",
      "Survey Annual Social and Economic Supplement (CPS ASEC). \n",
      "For reporting purposes, the ACS broadly classifies health insurance \n",
      "coverage as private insurance or public insurance. The ACS defines \n",
      "private health insurance as a plan provided through an employer \n",
      "or a union, coverage purchased directly by an individual from an \n",
      "insurance company or through an exchange (such as healthcare.\n"
     ]
    }
   ],
   "source": [
    "## Query using Similarity Search\n",
    "query=\"WHAT IS HEALTH INSURANCE COVERAGE?\"\n",
    "relevant_docments=vectorstore.similarity_search(query)\n",
    "\n",
    "print(relevant_docments[0].page_content)"
   ]
  },
  {
   "cell_type": "code",
   "execution_count": 12,
   "metadata": {},
   "outputs": [
    {
     "name": "stdout",
     "output_type": "stream",
     "text": [
      "tags=['FAISS', 'HuggingFaceBgeEmbeddings'] vectorstore=<langchain_community.vectorstores.faiss.FAISS object at 0x000002A2C9768AF0> search_kwargs={'k': 3}\n"
     ]
    }
   ],
   "source": [
    "retriever=vectorstore.as_retriever(search_type=\"similarity\",search_kwargs={\"k\":3})\n",
    "print(retriever)"
   ]
  },
  {
   "cell_type": "code",
   "execution_count": 16,
   "metadata": {},
   "outputs": [],
   "source": [
    "import os\n",
    "os.environ['HUGGINGFACEHUB_API_TOKEN']=\"\""
   ]
  },
  {
   "cell_type": "markdown",
   "metadata": {},
   "source": [
    "The Hugging Face Hub is an platform with over 350k models, 75k datasets, and 150k demo apps (Spaces), all open source and publicly available, in an online platform where people can easily collaborate and build ML together."
   ]
  },
  {
   "cell_type": "code",
   "execution_count": 17,
   "metadata": {},
   "outputs": [
    {
     "name": "stderr",
     "output_type": "stream",
     "text": [
      "e:\\Langchain\\venv\\lib\\site-packages\\langchain_core\\_api\\deprecation.py:117: LangChainDeprecationWarning: The class `langchain_community.llms.huggingface_hub.HuggingFaceHub` was deprecated in langchain-community 0.0.21 and will be removed in 0.2.0. Use HuggingFaceEndpoint instead.\n",
      "  warn_deprecated(\n"
     ]
    },
    {
     "data": {
      "text/plain": [
       "'What is the health insurance coverage?\\n\\nThe health insurance coverage is a contract between the insurer and the insured. The insurer agrees to pay the insured for the medical expenses incurred by the insured. The insured agrees to pay the premium to the insurer.\\n\\nWhat is the health insurance coverage?\\n\\nThe health insurance coverage is a contract between the insurer and the insured. The insurer agrees to pay the insured for the medical expenses incurred by the insured.'"
      ]
     },
     "execution_count": 17,
     "metadata": {},
     "output_type": "execute_result"
    }
   ],
   "source": [
    "from langchain_community.llms import HuggingFaceHub\n",
    "\n",
    "hf=HuggingFaceHub(\n",
    "    repo_id=\"mistralai/Mistral-7B-v0.1\",\n",
    "    model_kwargs={\"temperature\":0.1,\"max_length\":500}\n",
    "\n",
    ")\n",
    "query=\"What is the health insurance coverage?\"\n",
    "hf.invoke(query)"
   ]
  },
  {
   "cell_type": "code",
   "execution_count": null,
   "metadata": {},
   "outputs": [],
   "source": [
    "#Hugging Face models can be run locally through the HuggingFacePipeline class.\n",
    "from langchain_community.llms.huggingface_pipeline import HuggingFacePipeline\n",
    "\n",
    "hf = HuggingFacePipeline.from_model_id(\n",
    "    model_id=\"mistralai/Mistral-7B-v0.1\",\n",
    "    task=\"text-generation\",\n",
    "    pipeline_kwargs={\"temperature\": 0, \"max_new_tokens\": 300}\n",
    ")\n",
    "\n",
    "llm = hf \n",
    "llm.invoke(query)"
   ]
  },
  {
   "cell_type": "code",
   "execution_count": 22,
   "metadata": {},
   "outputs": [],
   "source": [
    "prompt_template=\"\"\"\n",
    "Use the following piece of context to answer the question asked.\n",
    "Please try to provide the answer only based on the context\n",
    "\n",
    "{context}\n",
    "Question:{question}\n",
    "\n",
    "Helpful Answers:\n",
    " \"\"\""
   ]
  },
  {
   "cell_type": "code",
   "execution_count": 24,
   "metadata": {},
   "outputs": [],
   "source": [
    "prompt=PromptTemplate(template=prompt_template,input_variables=[\"context\",\"question\"])"
   ]
  },
  {
   "cell_type": "code",
   "execution_count": 25,
   "metadata": {},
   "outputs": [],
   "source": [
    "retrievalQA=RetrievalQA.from_chain_type(\n",
    "    llm=hf,\n",
    "    chain_type=\"stuff\",\n",
    "    retriever=retriever,\n",
    "    return_source_documents=True,\n",
    "    chain_type_kwargs={\"prompt\":prompt}\n",
    ")"
   ]
  },
  {
   "cell_type": "code",
   "execution_count": 28,
   "metadata": {},
   "outputs": [],
   "source": [
    "query=\"\"\"DIFFERENCES IN THE\n",
    "UNINSURED RATE BY STATE\n",
    "IN 2022\"\"\""
   ]
  },
  {
   "cell_type": "code",
   "execution_count": 29,
   "metadata": {},
   "outputs": [
    {
     "name": "stdout",
     "output_type": "stream",
     "text": [
      "\n",
      "Use the following piece of context to answer the question asked.\n",
      "Please try to provide the answer only based on the context\n",
      "\n",
      "comparison of ACS and CPS ASEC measures \n",
      "of health insurance coverage, refer to < www.\n",
      "census.gov/topics/health/health-insurance/\n",
      "guidance.html >.\n",
      "9 Respondents may have more than one \n",
      "health insurance coverage type at the time \n",
      "of interview. As a result, adding the total \n",
      "number of people with private coverage and \n",
      "the total number with public coverage will \n",
      "sum to more than the total number with any \n",
      "coverage.• From 2021 to 2022, nine states \n",
      "reported increases in private \n",
      "coverage, while seven reported \n",
      "decreases (Appendix Table B-2). \n",
      "DIFFERENCES IN THE \n",
      "UNINSURED RATE BY STATE \n",
      "IN 2022\n",
      "In 2022, uninsured rates at the \n",
      "time of interview ranged across \n",
      "states from a low of 2.4 percent \n",
      "in Massachusetts to a high of 16.6 \n",
      "percent in Texas, compared to the \n",
      "national rate of 8.0 percent.10 Ten \n",
      "of the 15 states with uninsured \n",
      "10 The uninsured rates in the District \n",
      "of Columbia and Massachusetts were not \n",
      "statistically different.rates above the national aver -\n",
      "\n",
      "percent (Appendix Table B-5). \n",
      "Medicaid coverage accounted \n",
      "for a portion of that difference. \n",
      "Medicaid coverage was 22.7 per -\n",
      "cent in the group of states that \n",
      "expanded Medicaid eligibility and \n",
      "18.0 percent in the group of nonex -\n",
      "pansion states.\n",
      "CHANGES IN THE UNINSURED \n",
      "RATE BY STATE FROM 2021 \n",
      "TO 2022\n",
      "From 2021 to 2022, uninsured rates \n",
      "decreased across 27 states, while \n",
      "only Maine had an increase. The \n",
      "uninsured rate in Maine increased \n",
      "from 5.7 percent to 6.6 percent, \n",
      "although it remained below the \n",
      "national average. Maine’s uninsured \n",
      "rate was still below 8.0 percent, \n",
      "21 Douglas Conway and Breauna Branch, \n",
      "“Health Insurance Coverage Status and Type \n",
      "by Geography: 2019 and 2021,” 2022, < www.\n",
      "census.gov/content/dam/Census/library/\n",
      "publications/2022/acs/acsbr-013.pdf >.\n",
      "\n",
      "library/publications/2022/acs/acsbr-013.pdf >.\n",
      "39 In 2022, the private coverage rates were \n",
      "not statistically different in North Dakota and \n",
      "Utah.Figure /five.tab/period.tab\n",
      "Percentage of Uninsured People for the /two.tab/five.tab Most Populous Metropolitan \n",
      "Areas/colon.tab /two.tab/zero.tab/two.tab/one.tab and /two.tab/zero.tab/two.tab/two.tab\n",
      "(Civilian, noninstitutionalized population) /uni00A0\n",
      "* Denotes a statistically signiﬁcant change between 2021 and 2022 at the 90 percent conﬁdence level.\n",
      "Note: For information on conﬁdentiality protection, sampling error, nonsampling error, and deﬁnitions in the American Community\n",
      "Survey, refer to <https://www2.census.gov/programs-surveys/acs/tech_docs/accuracy/ACS_Accuracy_of_Data_2022.pdf>.\n",
      "Source: U.S. Census Bureau, 2021 and 2022 American Community Survey, 1-year estimates. Boston-Cambridge-Newton/comma.tab MA-NH\n",
      "San Francisco-Oakland-Berkeley/comma.tab CA\n",
      "*Detroit-Warren-Dearborn/comma.tab MI\n",
      "Question:DIFFERENCES IN THE\n",
      "UNINSURED RATE BY STATE\n",
      "IN 2022\n",
      "\n",
      "Helpful Answers:\n",
      " 1.\n",
      " 2.\n",
      " 3.\n",
      " 4.\n",
      " 5.\n",
      " 6.\n",
      " 7.\n",
      " 8.\n",
      " 9.\n",
      " 10.\n",
      " 11.\n",
      " 12.\n",
      " 13.\n",
      " 14.\n",
      " 15.\n",
      " 16.\n",
      " 17.\n",
      " 18.\n",
      " 19.\n",
      " 20.\n",
      " 21.\n",
      " 22.\n",
      "\n"
     ]
    }
   ],
   "source": [
    "# Call the QA chain with our query.\n",
    "result = retrievalQA.invoke({\"query\": query})\n",
    "print(result['result'])"
   ]
  },
  {
   "cell_type": "code",
   "execution_count": null,
   "metadata": {},
   "outputs": [],
   "source": []
  },
  {
   "cell_type": "code",
   "execution_count": null,
   "metadata": {},
   "outputs": [],
   "source": []
  }
 ],
 "metadata": {
  "kernelspec": {
   "display_name": "Python 3",
   "language": "python",
   "name": "python3"
  },
  "language_info": {
   "codemirror_mode": {
    "name": "ipython",
    "version": 3
   },
   "file_extension": ".py",
   "mimetype": "text/x-python",
   "name": "python",
   "nbconvert_exporter": "python",
   "pygments_lexer": "ipython3",
   "version": "3.10.0"
  }
 },
 "nbformat": 4,
 "nbformat_minor": 2
}
